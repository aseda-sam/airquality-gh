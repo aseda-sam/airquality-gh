{
 "cells": [
  {
   "cell_type": "markdown",
   "metadata": {},
   "source": [
    "## Importing libraries"
   ]
  },
  {
   "cell_type": "code",
   "execution_count": 102,
   "metadata": {},
   "outputs": [],
   "source": [
    "import pandas as pd\n",
    "import numpy as np"
   ]
  },
  {
   "cell_type": "markdown",
   "metadata": {},
   "source": [
    "## Read csv file"
   ]
  },
  {
   "cell_type": "code",
   "execution_count": 103,
   "metadata": {},
   "outputs": [
    {
     "data": {
      "text/html": [
       "<div>\n",
       "<style scoped>\n",
       "    .dataframe tbody tr th:only-of-type {\n",
       "        vertical-align: middle;\n",
       "    }\n",
       "\n",
       "    .dataframe tbody tr th {\n",
       "        vertical-align: top;\n",
       "    }\n",
       "\n",
       "    .dataframe thead th {\n",
       "        text-align: right;\n",
       "    }\n",
       "</style>\n",
       "<table border=\"1\" class=\"dataframe\">\n",
       "  <thead>\n",
       "    <tr style=\"text-align: right;\">\n",
       "      <th></th>\n",
       "      <th>date</th>\n",
       "      <th>parameter</th>\n",
       "      <th>location</th>\n",
       "      <th>value</th>\n",
       "      <th>unit</th>\n",
       "      <th>city</th>\n",
       "      <th>attribution</th>\n",
       "      <th>averagingperiod</th>\n",
       "      <th>coordinates</th>\n",
       "      <th>country</th>\n",
       "      <th>sourcename</th>\n",
       "      <th>sourcetype</th>\n",
       "      <th>mobile</th>\n",
       "    </tr>\n",
       "  </thead>\n",
       "  <tbody>\n",
       "    <tr>\n",
       "      <th>0</th>\n",
       "      <td>{utc=2006-11-13T06:42:00.000Z, local=2006-11-1...</td>\n",
       "      <td>pm25</td>\n",
       "      <td>JTA - Jamestown</td>\n",
       "      <td>115.56</td>\n",
       "      <td>µg/m³</td>\n",
       "      <td>Accra</td>\n",
       "      <td>[{name=Dr. Raphael E. Arku and Colleagues, url...</td>\n",
       "      <td>{unit=hours, value=48.0}</td>\n",
       "      <td>{latitude=5.540114, longitude=-0.2103972}</td>\n",
       "      <td>GH</td>\n",
       "      <td>Dr. Raphael E. Arku and Colleagues</td>\n",
       "      <td>research</td>\n",
       "      <td>False</td>\n",
       "    </tr>\n",
       "    <tr>\n",
       "      <th>1</th>\n",
       "      <td>{utc=2006-11-13T06:42:00.000Z, local=2006-11-1...</td>\n",
       "      <td>pm10</td>\n",
       "      <td>JTA - Jamestown</td>\n",
       "      <td>161.09</td>\n",
       "      <td>µg/m³</td>\n",
       "      <td>Accra</td>\n",
       "      <td>[{name=Dr. Raphael E. Arku and Colleagues, url...</td>\n",
       "      <td>{unit=hours, value=48.0}</td>\n",
       "      <td>{latitude=5.540114, longitude=-0.2103972}</td>\n",
       "      <td>GH</td>\n",
       "      <td>Dr. Raphael E. Arku and Colleagues</td>\n",
       "      <td>research</td>\n",
       "      <td>False</td>\n",
       "    </tr>\n",
       "    <tr>\n",
       "      <th>2</th>\n",
       "      <td>{utc=2006-11-13T07:13:00.000Z, local=2006-11-1...</td>\n",
       "      <td>pm25</td>\n",
       "      <td>JTC - Jamestown</td>\n",
       "      <td>104.80</td>\n",
       "      <td>µg/m³</td>\n",
       "      <td>Accra</td>\n",
       "      <td>[{name=Dr. Raphael E. Arku and Colleagues, url...</td>\n",
       "      <td>{unit=hours, value=48.0}</td>\n",
       "      <td>{latitude=5.5349193, longitude=-0.2124056}</td>\n",
       "      <td>GH</td>\n",
       "      <td>Dr. Raphael E. Arku and Colleagues</td>\n",
       "      <td>research</td>\n",
       "      <td>False</td>\n",
       "    </tr>\n",
       "  </tbody>\n",
       "</table>\n",
       "</div>"
      ],
      "text/plain": [
       "                                                date parameter  \\\n",
       "0  {utc=2006-11-13T06:42:00.000Z, local=2006-11-1...      pm25   \n",
       "1  {utc=2006-11-13T06:42:00.000Z, local=2006-11-1...      pm10   \n",
       "2  {utc=2006-11-13T07:13:00.000Z, local=2006-11-1...      pm25   \n",
       "\n",
       "          location   value   unit   city  \\\n",
       "0  JTA - Jamestown  115.56  µg/m³  Accra   \n",
       "1  JTA - Jamestown  161.09  µg/m³  Accra   \n",
       "2  JTC - Jamestown  104.80  µg/m³  Accra   \n",
       "\n",
       "                                         attribution  \\\n",
       "0  [{name=Dr. Raphael E. Arku and Colleagues, url...   \n",
       "1  [{name=Dr. Raphael E. Arku and Colleagues, url...   \n",
       "2  [{name=Dr. Raphael E. Arku and Colleagues, url...   \n",
       "\n",
       "            averagingperiod                                 coordinates  \\\n",
       "0  {unit=hours, value=48.0}   {latitude=5.540114, longitude=-0.2103972}   \n",
       "1  {unit=hours, value=48.0}   {latitude=5.540114, longitude=-0.2103972}   \n",
       "2  {unit=hours, value=48.0}  {latitude=5.5349193, longitude=-0.2124056}   \n",
       "\n",
       "  country                          sourcename sourcetype  mobile  \n",
       "0      GH  Dr. Raphael E. Arku and Colleagues   research   False  \n",
       "1      GH  Dr. Raphael E. Arku and Colleagues   research   False  \n",
       "2      GH  Dr. Raphael E. Arku and Colleagues   research   False  "
      ]
     },
     "execution_count": 103,
     "metadata": {},
     "output_type": "execute_result"
    }
   ],
   "source": [
    "df = pd.read_csv('air_quality.csv')\n",
    "adf=df\n",
    "adf.head(3)"
   ]
  },
  {
   "cell_type": "markdown",
   "metadata": {},
   "source": [
    "## Formatting columns"
   ]
  },
  {
   "cell_type": "code",
   "execution_count": 104,
   "metadata": {
    "scrolled": true
   },
   "outputs": [],
   "source": [
    "columns_to_keep = ['date', 'parameter', 'location', 'value', 'averagingperiod', 'coordinates']\n",
    "adf = adf[columns_to_keep]\n",
    "adf = adf.rename(columns={'date':'long_date', 'averagingperiod':'avgpd'})"
   ]
  },
  {
   "cell_type": "code",
   "execution_count": 105,
   "metadata": {
    "scrolled": true
   },
   "outputs": [],
   "source": [
    "adf['date'] = adf.long_date.str.slice(5, 15)\n",
    "adf['time'] = adf.long_date.str.slice(16, 21)\n",
    "adf['datetime'] = pd.to_datetime(adf['date'] + ' ' + adf['time'])\n",
    "\n",
    "adf['coordinates'] = adf.coordinates.str.strip('{latitude=}').str.replace('longitude=','')\n",
    "\n",
    "split_cd = adf.coordinates.str.split(', ')\n",
    "adf['lat'] = split_cd.apply(lambda x: x[0])\n",
    "adf['long'] = split_cd.apply(lambda x: x[1])\n",
    "\n",
    "adf['avgpd'] = adf.avgpd.str.extract('(\\d+\\.\\d+)')\n",
    "adf['avgpd'] = pd.to_numeric(adf.avgpd)\n",
    "\n",
    "adf.drop('long_date', axis=1, inplace=True)\n",
    "adf.drop('coordinates', axis=1, inplace=True)\n",
    "\n",
    "split_loc = adf.location.str.split('-')\n",
    "adf['area'] = split_loc.apply(lambda x: x[1]).str.strip()\n",
    "\n",
    "cols_arrange = ['area', 'location', 'parameter', 'value', 'lat', 'long', 'avgpd', 'date', 'time', 'datetime']\n",
    "adf = adf[cols_arrange]"
   ]
  },
  {
   "cell_type": "code",
   "execution_count": 106,
   "metadata": {
    "scrolled": true
   },
   "outputs": [
    {
     "data": {
      "text/html": [
       "<div>\n",
       "<style scoped>\n",
       "    .dataframe tbody tr th:only-of-type {\n",
       "        vertical-align: middle;\n",
       "    }\n",
       "\n",
       "    .dataframe tbody tr th {\n",
       "        vertical-align: top;\n",
       "    }\n",
       "\n",
       "    .dataframe thead th {\n",
       "        text-align: right;\n",
       "    }\n",
       "</style>\n",
       "<table border=\"1\" class=\"dataframe\">\n",
       "  <thead>\n",
       "    <tr style=\"text-align: right;\">\n",
       "      <th></th>\n",
       "      <th>area</th>\n",
       "      <th>location</th>\n",
       "      <th>parameter</th>\n",
       "      <th>value</th>\n",
       "      <th>lat</th>\n",
       "      <th>long</th>\n",
       "      <th>avgpd</th>\n",
       "      <th>date</th>\n",
       "      <th>time</th>\n",
       "      <th>datetime</th>\n",
       "    </tr>\n",
       "  </thead>\n",
       "  <tbody>\n",
       "    <tr>\n",
       "      <th>0</th>\n",
       "      <td>Jamestown</td>\n",
       "      <td>JTA - Jamestown</td>\n",
       "      <td>pm25</td>\n",
       "      <td>115.56</td>\n",
       "      <td>5.540114</td>\n",
       "      <td>-0.2103972</td>\n",
       "      <td>48.0</td>\n",
       "      <td>2006-11-13</td>\n",
       "      <td>06:42</td>\n",
       "      <td>2006-11-13 06:42:00</td>\n",
       "    </tr>\n",
       "    <tr>\n",
       "      <th>1</th>\n",
       "      <td>Jamestown</td>\n",
       "      <td>JTA - Jamestown</td>\n",
       "      <td>pm10</td>\n",
       "      <td>161.09</td>\n",
       "      <td>5.540114</td>\n",
       "      <td>-0.2103972</td>\n",
       "      <td>48.0</td>\n",
       "      <td>2006-11-13</td>\n",
       "      <td>06:42</td>\n",
       "      <td>2006-11-13 06:42:00</td>\n",
       "    </tr>\n",
       "    <tr>\n",
       "      <th>2</th>\n",
       "      <td>Jamestown</td>\n",
       "      <td>JTC - Jamestown</td>\n",
       "      <td>pm25</td>\n",
       "      <td>104.80</td>\n",
       "      <td>5.5349193</td>\n",
       "      <td>-0.2124056</td>\n",
       "      <td>48.0</td>\n",
       "      <td>2006-11-13</td>\n",
       "      <td>07:13</td>\n",
       "      <td>2006-11-13 07:13:00</td>\n",
       "    </tr>\n",
       "    <tr>\n",
       "      <th>3</th>\n",
       "      <td>Jamestown</td>\n",
       "      <td>JTC - Jamestown</td>\n",
       "      <td>pm10</td>\n",
       "      <td>187.21</td>\n",
       "      <td>5.5349193</td>\n",
       "      <td>-0.2124056</td>\n",
       "      <td>48.0</td>\n",
       "      <td>2006-11-13</td>\n",
       "      <td>07:13</td>\n",
       "      <td>2006-11-13 07:13:00</td>\n",
       "    </tr>\n",
       "    <tr>\n",
       "      <th>4</th>\n",
       "      <td>Jamestown</td>\n",
       "      <td>JTT - Jamestown</td>\n",
       "      <td>pm25</td>\n",
       "      <td>86.29</td>\n",
       "      <td>5.5334554</td>\n",
       "      <td>-0.2129917</td>\n",
       "      <td>48.0</td>\n",
       "      <td>2006-11-13</td>\n",
       "      <td>07:31</td>\n",
       "      <td>2006-11-13 07:31:00</td>\n",
       "    </tr>\n",
       "  </tbody>\n",
       "</table>\n",
       "</div>"
      ],
      "text/plain": [
       "        area         location parameter   value        lat        long  avgpd  \\\n",
       "0  Jamestown  JTA - Jamestown      pm25  115.56   5.540114  -0.2103972   48.0   \n",
       "1  Jamestown  JTA - Jamestown      pm10  161.09   5.540114  -0.2103972   48.0   \n",
       "2  Jamestown  JTC - Jamestown      pm25  104.80  5.5349193  -0.2124056   48.0   \n",
       "3  Jamestown  JTC - Jamestown      pm10  187.21  5.5349193  -0.2124056   48.0   \n",
       "4  Jamestown  JTT - Jamestown      pm25   86.29  5.5334554  -0.2129917   48.0   \n",
       "\n",
       "         date   time            datetime  \n",
       "0  2006-11-13  06:42 2006-11-13 06:42:00  \n",
       "1  2006-11-13  06:42 2006-11-13 06:42:00  \n",
       "2  2006-11-13  07:13 2006-11-13 07:13:00  \n",
       "3  2006-11-13  07:13 2006-11-13 07:13:00  \n",
       "4  2006-11-13  07:31 2006-11-13 07:31:00  "
      ]
     },
     "execution_count": 106,
     "metadata": {},
     "output_type": "execute_result"
    }
   ],
   "source": [
    "adf.head()"
   ]
  },
  {
   "cell_type": "markdown",
   "metadata": {},
   "source": [
    "## EDA"
   ]
  },
  {
   "cell_type": "code",
   "execution_count": 107,
   "metadata": {},
   "outputs": [
    {
     "data": {
      "text/plain": [
       "<matplotlib.axes._subplots.AxesSubplot at 0x2a90dc098d0>"
      ]
     },
     "execution_count": 107,
     "metadata": {},
     "output_type": "execute_result"
    },
    {
     "data": {
      "image/png": "[encoded data removed]",
      "text/plain": [
       "<Figure size 432x288 with 1 Axes>"
      ]
     },
     "metadata": {
      "needs_background": "light"
     },
     "output_type": "display_data"
    }
   ],
   "source": [
    "adf['area'].value_counts().plot.bar()"
   ]
  },
  {
   "cell_type": "code",
   "execution_count": 108,
   "metadata": {
    "scrolled": true
   },
   "outputs": [
    {
     "data": {
      "text/plain": [
       "<matplotlib.axes._subplots.AxesSubplot at 0x2a90de1e7b8>"
      ]
     },
     "execution_count": 108,
     "metadata": {},
     "output_type": "execute_result"
    },
    {
     "data": {
      "image/png": "[encoded data removed]",
      "text/plain": [
       "<Figure size 432x288 with 1 Axes>"
      ]
     },
     "metadata": {
      "needs_background": "light"
     },
     "output_type": "display_data"
    }
   ],
   "source": [
    "adf[(adf['avgpd'] >= 45) & (adf['avgpd'] <= 50)]['avgpd'].value_counts().sort_index().plot.area()"
   ]
  },
  {
   "cell_type": "code",
   "execution_count": 109,
   "metadata": {},
   "outputs": [],
   "source": [
    "adf = adf[adf['avgpd'] != 0] # Delete rows where the recording duration was 0"
   ]
  }
 ],
 "metadata": {
  "kernelspec": {
   "display_name": "Python [conda root]",
   "language": "python",
   "name": "conda-root-py"
  },
  "language_info": {
   "codemirror_mode": {
    "name": "ipython",
    "version": 3
   },
   "file_extension": ".py",
   "mimetype": "text/x-python",
   "name": "python",
   "nbconvert_exporter": "python",
   "pygments_lexer": "ipython3",
   "version": "3.6.6"
  }
 },
 "nbformat": 4,
 "nbformat_minor": 2
}
