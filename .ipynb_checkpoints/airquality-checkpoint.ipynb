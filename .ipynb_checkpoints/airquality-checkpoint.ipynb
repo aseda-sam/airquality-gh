{
 "cells": [
  {
   "cell_type": "markdown",
   "metadata": {},
   "source": [
    "## Importing libraries"
   ]
  },
  {
   "cell_type": "code",
   "execution_count": 448,
   "metadata": {},
   "outputs": [],
   "source": [
    "import pandas as pd\n",
    "import numpy as np"
   ]
  },
  {
   "cell_type": "markdown",
   "metadata": {},
   "source": [
    "## Read csv file"
   ]
  },
  {
   "cell_type": "code",
   "execution_count": 449,
   "metadata": {},
   "outputs": [
    {
     "data": {
      "text/html": [
       "<div>\n",
       "<style scoped>\n",
       "    .dataframe tbody tr th:only-of-type {\n",
       "        vertical-align: middle;\n",
       "    }\n",
       "\n",
       "    .dataframe tbody tr th {\n",
       "        vertical-align: top;\n",
       "    }\n",
       "\n",
       "    .dataframe thead th {\n",
       "        text-align: right;\n",
       "    }\n",
       "</style>\n",
       "<table border=\"1\" class=\"dataframe\">\n",
       "  <thead>\n",
       "    <tr style=\"text-align: right;\">\n",
       "      <th></th>\n",
       "      <th>date</th>\n",
       "      <th>parameter</th>\n",
       "      <th>location</th>\n",
       "      <th>value</th>\n",
       "      <th>unit</th>\n",
       "      <th>city</th>\n",
       "      <th>attribution</th>\n",
       "      <th>averagingperiod</th>\n",
       "      <th>coordinates</th>\n",
       "      <th>country</th>\n",
       "      <th>sourcename</th>\n",
       "      <th>sourcetype</th>\n",
       "      <th>mobile</th>\n",
       "    </tr>\n",
       "  </thead>\n",
       "  <tbody>\n",
       "    <tr>\n",
       "      <th>0</th>\n",
       "      <td>{utc=2006-11-13T06:42:00.000Z, local=2006-11-1...</td>\n",
       "      <td>pm25</td>\n",
       "      <td>JTA - Jamestown</td>\n",
       "      <td>115.56</td>\n",
       "      <td>µg/m³</td>\n",
       "      <td>Accra</td>\n",
       "      <td>[{name=Dr. Raphael E. Arku and Colleagues, url...</td>\n",
       "      <td>{unit=hours, value=48.0}</td>\n",
       "      <td>{latitude=5.540114, longitude=-0.2103972}</td>\n",
       "      <td>GH</td>\n",
       "      <td>Dr. Raphael E. Arku and Colleagues</td>\n",
       "      <td>research</td>\n",
       "      <td>False</td>\n",
       "    </tr>\n",
       "    <tr>\n",
       "      <th>1</th>\n",
       "      <td>{utc=2006-11-13T06:42:00.000Z, local=2006-11-1...</td>\n",
       "      <td>pm10</td>\n",
       "      <td>JTA - Jamestown</td>\n",
       "      <td>161.09</td>\n",
       "      <td>µg/m³</td>\n",
       "      <td>Accra</td>\n",
       "      <td>[{name=Dr. Raphael E. Arku and Colleagues, url...</td>\n",
       "      <td>{unit=hours, value=48.0}</td>\n",
       "      <td>{latitude=5.540114, longitude=-0.2103972}</td>\n",
       "      <td>GH</td>\n",
       "      <td>Dr. Raphael E. Arku and Colleagues</td>\n",
       "      <td>research</td>\n",
       "      <td>False</td>\n",
       "    </tr>\n",
       "    <tr>\n",
       "      <th>2</th>\n",
       "      <td>{utc=2006-11-13T07:13:00.000Z, local=2006-11-1...</td>\n",
       "      <td>pm25</td>\n",
       "      <td>JTC - Jamestown</td>\n",
       "      <td>104.80</td>\n",
       "      <td>µg/m³</td>\n",
       "      <td>Accra</td>\n",
       "      <td>[{name=Dr. Raphael E. Arku and Colleagues, url...</td>\n",
       "      <td>{unit=hours, value=48.0}</td>\n",
       "      <td>{latitude=5.5349193, longitude=-0.2124056}</td>\n",
       "      <td>GH</td>\n",
       "      <td>Dr. Raphael E. Arku and Colleagues</td>\n",
       "      <td>research</td>\n",
       "      <td>False</td>\n",
       "    </tr>\n",
       "  </tbody>\n",
       "</table>\n",
       "</div>"
      ],
      "text/plain": [
       "                                                date parameter  \\\n",
       "0  {utc=2006-11-13T06:42:00.000Z, local=2006-11-1...      pm25   \n",
       "1  {utc=2006-11-13T06:42:00.000Z, local=2006-11-1...      pm10   \n",
       "2  {utc=2006-11-13T07:13:00.000Z, local=2006-11-1...      pm25   \n",
       "\n",
       "          location   value   unit   city  \\\n",
       "0  JTA - Jamestown  115.56  µg/m³  Accra   \n",
       "1  JTA - Jamestown  161.09  µg/m³  Accra   \n",
       "2  JTC - Jamestown  104.80  µg/m³  Accra   \n",
       "\n",
       "                                         attribution  \\\n",
       "0  [{name=Dr. Raphael E. Arku and Colleagues, url...   \n",
       "1  [{name=Dr. Raphael E. Arku and Colleagues, url...   \n",
       "2  [{name=Dr. Raphael E. Arku and Colleagues, url...   \n",
       "\n",
       "            averagingperiod                                 coordinates  \\\n",
       "0  {unit=hours, value=48.0}   {latitude=5.540114, longitude=-0.2103972}   \n",
       "1  {unit=hours, value=48.0}   {latitude=5.540114, longitude=-0.2103972}   \n",
       "2  {unit=hours, value=48.0}  {latitude=5.5349193, longitude=-0.2124056}   \n",
       "\n",
       "  country                          sourcename sourcetype  mobile  \n",
       "0      GH  Dr. Raphael E. Arku and Colleagues   research   False  \n",
       "1      GH  Dr. Raphael E. Arku and Colleagues   research   False  \n",
       "2      GH  Dr. Raphael E. Arku and Colleagues   research   False  "
      ]
     },
     "execution_count": 449,
     "metadata": {},
     "output_type": "execute_result"
    }
   ],
   "source": [
    "adf = pd.read_csv('air_quality.csv')\n",
    "adf.head(3)"
   ]
  },
  {
   "cell_type": "markdown",
   "metadata": {},
   "source": [
    "## Maintaing needed columns"
   ]
  },
  {
   "cell_type": "code",
   "execution_count": 450,
   "metadata": {
    "scrolled": true
   },
   "outputs": [
    {
     "data": {
      "text/html": [
       "<div>\n",
       "<style scoped>\n",
       "    .dataframe tbody tr th:only-of-type {\n",
       "        vertical-align: middle;\n",
       "    }\n",
       "\n",
       "    .dataframe tbody tr th {\n",
       "        vertical-align: top;\n",
       "    }\n",
       "\n",
       "    .dataframe thead th {\n",
       "        text-align: right;\n",
       "    }\n",
       "</style>\n",
       "<table border=\"1\" class=\"dataframe\">\n",
       "  <thead>\n",
       "    <tr style=\"text-align: right;\">\n",
       "      <th></th>\n",
       "      <th>date</th>\n",
       "      <th>parameter</th>\n",
       "      <th>location</th>\n",
       "      <th>value</th>\n",
       "      <th>averagingperiod</th>\n",
       "      <th>coordinates</th>\n",
       "    </tr>\n",
       "  </thead>\n",
       "  <tbody>\n",
       "    <tr>\n",
       "      <th>0</th>\n",
       "      <td>{utc=2006-11-13T06:42:00.000Z, local=2006-11-1...</td>\n",
       "      <td>pm25</td>\n",
       "      <td>JTA - Jamestown</td>\n",
       "      <td>115.56</td>\n",
       "      <td>{unit=hours, value=48.0}</td>\n",
       "      <td>{latitude=5.540114, longitude=-0.2103972}</td>\n",
       "    </tr>\n",
       "    <tr>\n",
       "      <th>1</th>\n",
       "      <td>{utc=2006-11-13T06:42:00.000Z, local=2006-11-1...</td>\n",
       "      <td>pm10</td>\n",
       "      <td>JTA - Jamestown</td>\n",
       "      <td>161.09</td>\n",
       "      <td>{unit=hours, value=48.0}</td>\n",
       "      <td>{latitude=5.540114, longitude=-0.2103972}</td>\n",
       "    </tr>\n",
       "    <tr>\n",
       "      <th>2</th>\n",
       "      <td>{utc=2006-11-13T07:13:00.000Z, local=2006-11-1...</td>\n",
       "      <td>pm25</td>\n",
       "      <td>JTC - Jamestown</td>\n",
       "      <td>104.80</td>\n",
       "      <td>{unit=hours, value=48.0}</td>\n",
       "      <td>{latitude=5.5349193, longitude=-0.2124056}</td>\n",
       "    </tr>\n",
       "    <tr>\n",
       "      <th>3</th>\n",
       "      <td>{utc=2006-11-13T07:13:00.000Z, local=2006-11-1...</td>\n",
       "      <td>pm10</td>\n",
       "      <td>JTC - Jamestown</td>\n",
       "      <td>187.21</td>\n",
       "      <td>{unit=hours, value=48.0}</td>\n",
       "      <td>{latitude=5.5349193, longitude=-0.2124056}</td>\n",
       "    </tr>\n",
       "    <tr>\n",
       "      <th>4</th>\n",
       "      <td>{utc=2006-11-13T07:31:00.000Z, local=2006-11-1...</td>\n",
       "      <td>pm25</td>\n",
       "      <td>JTT - Jamestown</td>\n",
       "      <td>86.29</td>\n",
       "      <td>{unit=hours, value=48.0}</td>\n",
       "      <td>{latitude=5.5334554, longitude=-0.2129917}</td>\n",
       "    </tr>\n",
       "  </tbody>\n",
       "</table>\n",
       "</div>"
      ],
      "text/plain": [
       "                                                date parameter  \\\n",
       "0  {utc=2006-11-13T06:42:00.000Z, local=2006-11-1...      pm25   \n",
       "1  {utc=2006-11-13T06:42:00.000Z, local=2006-11-1...      pm10   \n",
       "2  {utc=2006-11-13T07:13:00.000Z, local=2006-11-1...      pm25   \n",
       "3  {utc=2006-11-13T07:13:00.000Z, local=2006-11-1...      pm10   \n",
       "4  {utc=2006-11-13T07:31:00.000Z, local=2006-11-1...      pm25   \n",
       "\n",
       "          location   value           averagingperiod  \\\n",
       "0  JTA - Jamestown  115.56  {unit=hours, value=48.0}   \n",
       "1  JTA - Jamestown  161.09  {unit=hours, value=48.0}   \n",
       "2  JTC - Jamestown  104.80  {unit=hours, value=48.0}   \n",
       "3  JTC - Jamestown  187.21  {unit=hours, value=48.0}   \n",
       "4  JTT - Jamestown   86.29  {unit=hours, value=48.0}   \n",
       "\n",
       "                                  coordinates  \n",
       "0   {latitude=5.540114, longitude=-0.2103972}  \n",
       "1   {latitude=5.540114, longitude=-0.2103972}  \n",
       "2  {latitude=5.5349193, longitude=-0.2124056}  \n",
       "3  {latitude=5.5349193, longitude=-0.2124056}  \n",
       "4  {latitude=5.5334554, longitude=-0.2129917}  "
      ]
     },
     "execution_count": 450,
     "metadata": {},
     "output_type": "execute_result"
    }
   ],
   "source": [
    "columns_to_keep = ['date', 'parameter', 'location', 'value', 'averagingperiod', 'coordinates']\n",
    "adf = adf[columns_to_keep]\n",
    "adf.head()"
   ]
  },
  {
   "cell_type": "markdown",
   "metadata": {},
   "source": [
    "## Formatting columns"
   ]
  },
  {
   "cell_type": "code",
   "execution_count": 451,
   "metadata": {},
   "outputs": [],
   "source": [
    "adf = adf.rename(columns={'date':'long_date', 'averagingperiod':'avgpd'})"
   ]
  },
  {
   "cell_type": "code",
   "execution_count": 452,
   "metadata": {
    "scrolled": true
   },
   "outputs": [],
   "source": [
    "adf['date'] = adf.long_date.str.slice(5, 15)\n",
    "adf['time'] = adf.long_date.str.slice(16, 21)\n",
    "adf['datetime'] = pd.to_datetime(adf['date'] + ' ' + adf['time'])"
   ]
  },
  {
   "cell_type": "code",
   "execution_count": 453,
   "metadata": {},
   "outputs": [],
   "source": [
    "adf['coordinates'] = adf.coordinates.str.strip('{latitude=}').str.replace('longitude=','')\n",
    "\n",
    "split_cd = adf.coordinates.str.split(', ')\n",
    "adf['lat'] = split_cd.apply(lambda x: x[0])\n",
    "adf['long'] = split_cd.apply(lambda x: x[1])"
   ]
  },
  {
   "cell_type": "code",
   "execution_count": 454,
   "metadata": {},
   "outputs": [],
   "source": [
    "adf['avgpd'] = adf.avgpd.str.extract('(\\d+\\.\\d+)')\n",
    "adf['avgpd'] = pd.to_numeric(adf.avgpd)"
   ]
  },
  {
   "cell_type": "code",
   "execution_count": 455,
   "metadata": {},
   "outputs": [],
   "source": [
    "adf.drop('long_date', axis=1, inplace=True)\n",
    "adf.drop('coordinates', axis=1, inplace=True)"
   ]
  },
  {
   "cell_type": "code",
   "execution_count": 456,
   "metadata": {
    "scrolled": false
   },
   "outputs": [
    {
     "data": {
      "text/html": [
       "<div>\n",
       "<style scoped>\n",
       "    .dataframe tbody tr th:only-of-type {\n",
       "        vertical-align: middle;\n",
       "    }\n",
       "\n",
       "    .dataframe tbody tr th {\n",
       "        vertical-align: top;\n",
       "    }\n",
       "\n",
       "    .dataframe thead th {\n",
       "        text-align: right;\n",
       "    }\n",
       "</style>\n",
       "<table border=\"1\" class=\"dataframe\">\n",
       "  <thead>\n",
       "    <tr style=\"text-align: right;\">\n",
       "      <th></th>\n",
       "      <th>parameter</th>\n",
       "      <th>location</th>\n",
       "      <th>value</th>\n",
       "      <th>avgpd</th>\n",
       "      <th>date</th>\n",
       "      <th>time</th>\n",
       "      <th>datetime</th>\n",
       "      <th>lat</th>\n",
       "      <th>long</th>\n",
       "    </tr>\n",
       "  </thead>\n",
       "  <tbody>\n",
       "    <tr>\n",
       "      <th>0</th>\n",
       "      <td>pm25</td>\n",
       "      <td>JTA - Jamestown</td>\n",
       "      <td>115.56</td>\n",
       "      <td>48.0</td>\n",
       "      <td>2006-11-13</td>\n",
       "      <td>06:42</td>\n",
       "      <td>2006-11-13 06:42:00</td>\n",
       "      <td>5.540114</td>\n",
       "      <td>-0.2103972</td>\n",
       "    </tr>\n",
       "    <tr>\n",
       "      <th>1</th>\n",
       "      <td>pm10</td>\n",
       "      <td>JTA - Jamestown</td>\n",
       "      <td>161.09</td>\n",
       "      <td>48.0</td>\n",
       "      <td>2006-11-13</td>\n",
       "      <td>06:42</td>\n",
       "      <td>2006-11-13 06:42:00</td>\n",
       "      <td>5.540114</td>\n",
       "      <td>-0.2103972</td>\n",
       "    </tr>\n",
       "    <tr>\n",
       "      <th>2</th>\n",
       "      <td>pm25</td>\n",
       "      <td>JTC - Jamestown</td>\n",
       "      <td>104.80</td>\n",
       "      <td>48.0</td>\n",
       "      <td>2006-11-13</td>\n",
       "      <td>07:13</td>\n",
       "      <td>2006-11-13 07:13:00</td>\n",
       "      <td>5.5349193</td>\n",
       "      <td>-0.2124056</td>\n",
       "    </tr>\n",
       "    <tr>\n",
       "      <th>3</th>\n",
       "      <td>pm10</td>\n",
       "      <td>JTC - Jamestown</td>\n",
       "      <td>187.21</td>\n",
       "      <td>48.0</td>\n",
       "      <td>2006-11-13</td>\n",
       "      <td>07:13</td>\n",
       "      <td>2006-11-13 07:13:00</td>\n",
       "      <td>5.5349193</td>\n",
       "      <td>-0.2124056</td>\n",
       "    </tr>\n",
       "    <tr>\n",
       "      <th>4</th>\n",
       "      <td>pm25</td>\n",
       "      <td>JTT - Jamestown</td>\n",
       "      <td>86.29</td>\n",
       "      <td>48.0</td>\n",
       "      <td>2006-11-13</td>\n",
       "      <td>07:31</td>\n",
       "      <td>2006-11-13 07:31:00</td>\n",
       "      <td>5.5334554</td>\n",
       "      <td>-0.2129917</td>\n",
       "    </tr>\n",
       "  </tbody>\n",
       "</table>\n",
       "</div>"
      ],
      "text/plain": [
       "  parameter         location   value  avgpd        date   time  \\\n",
       "0      pm25  JTA - Jamestown  115.56   48.0  2006-11-13  06:42   \n",
       "1      pm10  JTA - Jamestown  161.09   48.0  2006-11-13  06:42   \n",
       "2      pm25  JTC - Jamestown  104.80   48.0  2006-11-13  07:13   \n",
       "3      pm10  JTC - Jamestown  187.21   48.0  2006-11-13  07:13   \n",
       "4      pm25  JTT - Jamestown   86.29   48.0  2006-11-13  07:31   \n",
       "\n",
       "             datetime        lat        long  \n",
       "0 2006-11-13 06:42:00   5.540114  -0.2103972  \n",
       "1 2006-11-13 06:42:00   5.540114  -0.2103972  \n",
       "2 2006-11-13 07:13:00  5.5349193  -0.2124056  \n",
       "3 2006-11-13 07:13:00  5.5349193  -0.2124056  \n",
       "4 2006-11-13 07:31:00  5.5334554  -0.2129917  "
      ]
     },
     "execution_count": 456,
     "metadata": {},
     "output_type": "execute_result"
    }
   ],
   "source": [
    "adf.head()"
   ]
  },
  {
   "cell_type": "code",
   "execution_count": 461,
   "metadata": {},
   "outputs": [
    {
     "name": "stdout",
     "output_type": "stream",
     "text": [
      "<class 'pandas.core.frame.DataFrame'>\n",
      "RangeIndex: 1595 entries, 0 to 1594\n",
      "Data columns (total 9 columns):\n",
      "parameter    1595 non-null object\n",
      "location     1595 non-null object\n",
      "value        1595 non-null float64\n",
      "avgpd        1595 non-null float64\n",
      "date         1595 non-null object\n",
      "time         1595 non-null object\n",
      "datetime     1595 non-null datetime64[ns]\n",
      "lat          1595 non-null object\n",
      "long         1595 non-null object\n",
      "dtypes: datetime64[ns](1), float64(2), object(6)\n",
      "memory usage: 112.2+ KB\n"
     ]
    }
   ],
   "source": [
    "adf.info()"
   ]
  }
 ],
 "metadata": {
  "kernelspec": {
   "display_name": "Python [conda root]",
   "language": "python",
   "name": "conda-root-py"
  },
  "language_info": {
   "codemirror_mode": {
    "name": "ipython",
    "version": 3
   },
   "file_extension": ".py",
   "mimetype": "text/x-python",
   "name": "python",
   "nbconvert_exporter": "python",
   "pygments_lexer": "ipython3",
   "version": "3.6.6"
  }
 },
 "nbformat": 4,
 "nbformat_minor": 2
}
